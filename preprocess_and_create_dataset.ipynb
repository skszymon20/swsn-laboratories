{
 "cells": [
  {
   "cell_type": "code",
   "execution_count": 2,
   "id": "404793a4",
   "metadata": {},
   "outputs": [],
   "source": [
    "import pandas as pd\n",
    "import csv\n",
    "import matplotlib.pyplot as plt\n",
    "from matplotlib import rcParams\n",
    "import seaborn as sns\n",
    "import numpy as np"
   ]
  },
  {
   "attachments": {},
   "cell_type": "markdown",
   "id": "2aa2a071",
   "metadata": {},
   "source": [
    "### First dataset"
   ]
  },
  {
   "cell_type": "code",
   "execution_count": 3,
   "id": "1b4c515a",
   "metadata": {},
   "outputs": [],
   "source": [
    "data = pd.read_csv('molecules.csv')"
   ]
  },
  {
   "cell_type": "code",
   "execution_count": 4,
   "id": "f209064e",
   "metadata": {},
   "outputs": [
    {
     "data": {
      "text/plain": [
       "(25595, 43)"
      ]
     },
     "execution_count": 4,
     "metadata": {},
     "output_type": "execute_result"
    }
   ],
   "source": [
    "data.shape"
   ]
  },
  {
   "attachments": {},
   "cell_type": "markdown",
   "id": "7fc0afc6",
   "metadata": {},
   "source": [
    "Leave only column with SMILE and flavor."
   ]
  },
  {
   "cell_type": "code",
   "execution_count": 5,
   "id": "6858f54f",
   "metadata": {},
   "outputs": [
    {
     "data": {
      "text/plain": [
       "(25595, 2)"
      ]
     },
     "execution_count": 5,
     "metadata": {},
     "output_type": "execute_result"
    }
   ],
   "source": [
    "clean_columns = ['smile', 'flavor_profile']\n",
    "data = data[clean_columns]\n",
    "data.shape"
   ]
  },
  {
   "attachments": {},
   "cell_type": "markdown",
   "id": "f16f2b57",
   "metadata": {},
   "source": [
    "Drop NaNs"
   ]
  },
  {
   "cell_type": "code",
   "execution_count": 6,
   "id": "398d8556",
   "metadata": {},
   "outputs": [
    {
     "data": {
      "text/plain": [
       "(25106, 2)"
      ]
     },
     "execution_count": 6,
     "metadata": {},
     "output_type": "execute_result"
    }
   ],
   "source": [
    "data = data.dropna()\n",
    "data.shape"
   ]
  },
  {
   "cell_type": "code",
   "execution_count": 7,
   "id": "ad69fcb3",
   "metadata": {},
   "outputs": [
    {
     "data": {
      "text/html": [
       "<div>\n",
       "<style scoped>\n",
       "    .dataframe tbody tr th:only-of-type {\n",
       "        vertical-align: middle;\n",
       "    }\n",
       "\n",
       "    .dataframe tbody tr th {\n",
       "        vertical-align: top;\n",
       "    }\n",
       "\n",
       "    .dataframe thead th {\n",
       "        text-align: right;\n",
       "    }\n",
       "</style>\n",
       "<table border=\"1\" class=\"dataframe\">\n",
       "  <thead>\n",
       "    <tr style=\"text-align: right;\">\n",
       "      <th></th>\n",
       "      <th>smile</th>\n",
       "      <th>flavor_profile</th>\n",
       "    </tr>\n",
       "  </thead>\n",
       "  <tbody>\n",
       "    <tr>\n",
       "      <th>0</th>\n",
       "      <td>CC(CN)O</td>\n",
       "      <td>fishy</td>\n",
       "    </tr>\n",
       "    <tr>\n",
       "      <th>1</th>\n",
       "      <td>C1C(C(C(OC1O)CO)O)O</td>\n",
       "      <td>sweet</td>\n",
       "    </tr>\n",
       "    <tr>\n",
       "      <th>3</th>\n",
       "      <td>CC(C)C(=O)C(=O)O</td>\n",
       "      <td>fruity</td>\n",
       "    </tr>\n",
       "    <tr>\n",
       "      <th>4</th>\n",
       "      <td>C(CC(=O)O)C(=O)C(=O)O</td>\n",
       "      <td>odorless</td>\n",
       "    </tr>\n",
       "    <tr>\n",
       "      <th>5</th>\n",
       "      <td>CCC(=O)C(=O)O</td>\n",
       "      <td>brown@caramel@lactonic@sweet@creamy</td>\n",
       "    </tr>\n",
       "  </tbody>\n",
       "</table>\n",
       "</div>"
      ],
      "text/plain": [
       "                   smile                       flavor_profile\n",
       "0                CC(CN)O                                fishy\n",
       "1    C1C(C(C(OC1O)CO)O)O                                sweet\n",
       "3       CC(C)C(=O)C(=O)O                               fruity\n",
       "4  C(CC(=O)O)C(=O)C(=O)O                             odorless\n",
       "5          CCC(=O)C(=O)O  brown@caramel@lactonic@sweet@creamy"
      ]
     },
     "execution_count": 7,
     "metadata": {},
     "output_type": "execute_result"
    }
   ],
   "source": [
    "data.head()"
   ]
  },
  {
   "cell_type": "code",
   "execution_count": 9,
   "id": "5161b4da",
   "metadata": {},
   "outputs": [
    {
     "data": {
      "text/plain": [
       "sweet-like                                                        13782\n",
       "sweet                                                              8172\n",
       "bitter                                                              603\n",
       "odorless                                                            120\n",
       "fruity                                                               31\n",
       "                                                                  ...  \n",
       "butter@green bean@vegetable@earthy@beany@fruity@metallic@green        1\n",
       "acrylic@vegetable@pungent                                             1\n",
       "sulfur@cabbage@sulfurous@onion@fish@savory@meaty@cooked               1\n",
       "caramel@strawberry@grape@cotton@sweet@sugar@candy@almond              1\n",
       "wood@woody@green                                                      1\n",
       "Name: flavor_profile, Length: 2101, dtype: int64"
      ]
     },
     "execution_count": 9,
     "metadata": {},
     "output_type": "execute_result"
    }
   ],
   "source": [
    "data.flavor_profile.value_counts()"
   ]
  },
  {
   "attachments": {},
   "cell_type": "markdown",
   "id": "244fcb6d",
   "metadata": {},
   "source": [
    "Leave only 3 most common flavors: sweet, bitter and odorless. If one of these flavors is a part of the multiflavor, change the multiflavor into this flavor."
   ]
  },
  {
   "cell_type": "code",
   "execution_count": 10,
   "id": "51047d2f",
   "metadata": {},
   "outputs": [],
   "source": [
    "db2 = pd.DataFrame(columns=['smile', 'flavor'])\n",
    "for index, row in data.iterrows():\n",
    "    if 'odorless' in row['flavor_profile']:\n",
    "        db2.loc[len(db2.index)] = [row['smile'], 'odorless']\n",
    "    elif 'bitter' in row['flavor_profile']:\n",
    "        db2.loc[len(db2.index)] = [row['smile'], 'bitter']\n",
    "    elif 'sweet' in row['flavor_profile']:\n",
    "        db2.loc[len(db2.index)] = [row['smile'], 'sweet']"
   ]
  },
  {
   "cell_type": "code",
   "execution_count": 11,
   "id": "472e07bd",
   "metadata": {},
   "outputs": [
    {
     "data": {
      "text/plain": [
       "(23418, 2)"
      ]
     },
     "execution_count": 11,
     "metadata": {},
     "output_type": "execute_result"
    }
   ],
   "source": [
    "db2.shape"
   ]
  },
  {
   "cell_type": "code",
   "execution_count": 12,
   "id": "c7644f1a",
   "metadata": {},
   "outputs": [
    {
     "data": {
      "text/html": [
       "<div>\n",
       "<style scoped>\n",
       "    .dataframe tbody tr th:only-of-type {\n",
       "        vertical-align: middle;\n",
       "    }\n",
       "\n",
       "    .dataframe tbody tr th {\n",
       "        vertical-align: top;\n",
       "    }\n",
       "\n",
       "    .dataframe thead th {\n",
       "        text-align: right;\n",
       "    }\n",
       "</style>\n",
       "<table border=\"1\" class=\"dataframe\">\n",
       "  <thead>\n",
       "    <tr style=\"text-align: right;\">\n",
       "      <th></th>\n",
       "      <th>smile</th>\n",
       "      <th>flavor</th>\n",
       "    </tr>\n",
       "  </thead>\n",
       "  <tbody>\n",
       "    <tr>\n",
       "      <th>0</th>\n",
       "      <td>C1C(C(C(OC1O)CO)O)O</td>\n",
       "      <td>sweet</td>\n",
       "    </tr>\n",
       "    <tr>\n",
       "      <th>1</th>\n",
       "      <td>C(CC(=O)O)C(=O)C(=O)O</td>\n",
       "      <td>odorless</td>\n",
       "    </tr>\n",
       "    <tr>\n",
       "      <th>2</th>\n",
       "      <td>CCC(=O)C(=O)O</td>\n",
       "      <td>sweet</td>\n",
       "    </tr>\n",
       "    <tr>\n",
       "      <th>3</th>\n",
       "      <td>C1=NC2=C(C(=N1)N)N=CN2C3C(C(C(O3)COP(=O)(O)O)O...</td>\n",
       "      <td>sweet</td>\n",
       "    </tr>\n",
       "    <tr>\n",
       "      <th>4</th>\n",
       "      <td>C1=CC=C(C=C1)CCC(=O)O</td>\n",
       "      <td>sweet</td>\n",
       "    </tr>\n",
       "  </tbody>\n",
       "</table>\n",
       "</div>"
      ],
      "text/plain": [
       "                                               smile    flavor\n",
       "0                                C1C(C(C(OC1O)CO)O)O     sweet\n",
       "1                              C(CC(=O)O)C(=O)C(=O)O  odorless\n",
       "2                                      CCC(=O)C(=O)O     sweet\n",
       "3  C1=NC2=C(C(=N1)N)N=CN2C3C(C(C(O3)COP(=O)(O)O)O...     sweet\n",
       "4                              C1=CC=C(C=C1)CCC(=O)O     sweet"
      ]
     },
     "execution_count": 12,
     "metadata": {},
     "output_type": "execute_result"
    }
   ],
   "source": [
    "db2.head()"
   ]
  },
  {
   "cell_type": "code",
   "execution_count": 13,
   "id": "abf4cb65",
   "metadata": {},
   "outputs": [
    {
     "data": {
      "text/plain": [
       "sweet       22527\n",
       "bitter        728\n",
       "odorless      163\n",
       "Name: flavor, dtype: int64"
      ]
     },
     "execution_count": 13,
     "metadata": {},
     "output_type": "execute_result"
    }
   ],
   "source": [
    "db2.flavor.value_counts()"
   ]
  },
  {
   "attachments": {},
   "cell_type": "markdown",
   "id": "e6d5ceb4",
   "metadata": {},
   "source": [
    "### Second dataset"
   ]
  },
  {
   "cell_type": "code",
   "execution_count": 14,
   "id": "f7ef9923",
   "metadata": {},
   "outputs": [],
   "source": [
    "chem_data = pd.read_excel('ChemTastesDB_database.xlsx')"
   ]
  },
  {
   "cell_type": "code",
   "execution_count": 15,
   "id": "b07da674",
   "metadata": {},
   "outputs": [
    {
     "data": {
      "text/plain": [
       "(2947, 8)"
      ]
     },
     "execution_count": 15,
     "metadata": {},
     "output_type": "execute_result"
    }
   ],
   "source": [
    "chem_data.shape"
   ]
  },
  {
   "attachments": {},
   "cell_type": "markdown",
   "id": "f4a7a470",
   "metadata": {},
   "source": [
    "Leave only SMILES and taste, drop Nans."
   ]
  },
  {
   "cell_type": "code",
   "execution_count": 16,
   "id": "c5f5c9fd",
   "metadata": {},
   "outputs": [
    {
     "data": {
      "text/plain": [
       "(2944, 2)"
      ]
     },
     "execution_count": 16,
     "metadata": {},
     "output_type": "execute_result"
    }
   ],
   "source": [
    "chem_data = chem_data[['canonical SMILES', 'Class taste']]\n",
    "chem_data = chem_data.dropna()\n",
    "chem_data.shape"
   ]
  },
  {
   "cell_type": "code",
   "execution_count": 17,
   "id": "4b67e7c6",
   "metadata": {},
   "outputs": [
    {
     "data": {
      "text/html": [
       "<div>\n",
       "<style scoped>\n",
       "    .dataframe tbody tr th:only-of-type {\n",
       "        vertical-align: middle;\n",
       "    }\n",
       "\n",
       "    .dataframe tbody tr th {\n",
       "        vertical-align: top;\n",
       "    }\n",
       "\n",
       "    .dataframe thead th {\n",
       "        text-align: right;\n",
       "    }\n",
       "</style>\n",
       "<table border=\"1\" class=\"dataframe\">\n",
       "  <thead>\n",
       "    <tr style=\"text-align: right;\">\n",
       "      <th></th>\n",
       "      <th>canonical SMILES</th>\n",
       "      <th>Class taste</th>\n",
       "    </tr>\n",
       "  </thead>\n",
       "  <tbody>\n",
       "    <tr>\n",
       "      <th>0</th>\n",
       "      <td>Oc1cc2c(cc1O)C1c3ccc(c(c3OCC1(O)C2)O)O</td>\n",
       "      <td>Sweetness</td>\n",
       "    </tr>\n",
       "    <tr>\n",
       "      <th>1</th>\n",
       "      <td>CC(C)=CCCC(C)(O)C1CC(O)C(=CC1=O)C</td>\n",
       "      <td>Sweetness</td>\n",
       "    </tr>\n",
       "    <tr>\n",
       "      <th>2</th>\n",
       "      <td>CC(=O)OC1C(Oc2cc(cc(c2C1=O)O)O)c1ccc(c(c1)O)O</td>\n",
       "      <td>Sweetness</td>\n",
       "    </tr>\n",
       "    <tr>\n",
       "      <th>3</th>\n",
       "      <td>Oc1cc2c(cc1O)C1c3ccc(c(c3OCC1(O)C2)O)O</td>\n",
       "      <td>Sweetness</td>\n",
       "    </tr>\n",
       "    <tr>\n",
       "      <th>4</th>\n",
       "      <td>OC1C(O)C(O)C(O)C(O)C1O</td>\n",
       "      <td>Sweetness</td>\n",
       "    </tr>\n",
       "  </tbody>\n",
       "</table>\n",
       "</div>"
      ],
      "text/plain": [
       "                                canonical SMILES Class taste\n",
       "0         Oc1cc2c(cc1O)C1c3ccc(c(c3OCC1(O)C2)O)O   Sweetness\n",
       "1              CC(C)=CCCC(C)(O)C1CC(O)C(=CC1=O)C   Sweetness\n",
       "2  CC(=O)OC1C(Oc2cc(cc(c2C1=O)O)O)c1ccc(c(c1)O)O   Sweetness\n",
       "3         Oc1cc2c(cc1O)C1c3ccc(c(c3OCC1(O)C2)O)O   Sweetness\n",
       "4                         OC1C(O)C(O)C(O)C(O)C1O   Sweetness"
      ]
     },
     "execution_count": 17,
     "metadata": {},
     "output_type": "execute_result"
    }
   ],
   "source": [
    "chem_data.head()"
   ]
  },
  {
   "cell_type": "code",
   "execution_count": 18,
   "id": "1ecc3902",
   "metadata": {},
   "outputs": [
    {
     "data": {
      "text/plain": [
       "Bitterness       1183\n",
       "Sweetness         977\n",
       "Non-sweetness     233\n",
       "Tastelessness     203\n",
       "Multitaste        113\n",
       "Umaminess          98\n",
       "Miscellaneous      87\n",
       "Sourness           38\n",
       "Saltiness          12\n",
       "Name: Class taste, dtype: int64"
      ]
     },
     "execution_count": 18,
     "metadata": {},
     "output_type": "execute_result"
    }
   ],
   "source": [
    "chem_data['Class taste'].value_counts()"
   ]
  },
  {
   "attachments": {},
   "cell_type": "markdown",
   "id": "cc3666a9",
   "metadata": {},
   "source": [
    "Leave only three tastes - the same as previously. Append these rows to the first dataset."
   ]
  },
  {
   "cell_type": "code",
   "execution_count": 19,
   "id": "bdd810e6",
   "metadata": {},
   "outputs": [],
   "source": [
    "for index, row in chem_data.iterrows():\n",
    "    if 'Tastelessness' in row['Class taste']:\n",
    "        db2.loc[len(db2.index)] = [row['canonical SMILES'], 'odorless']\n",
    "    elif 'Bitterness' in row['Class taste']:\n",
    "        db2.loc[len(db2.index)] = [row['canonical SMILES'], 'bitter']\n",
    "    elif 'Sweetness' in row['Class taste']:\n",
    "        db2.loc[len(db2.index)] = [row['canonical SMILES'], 'sweet']"
   ]
  },
  {
   "cell_type": "code",
   "execution_count": 20,
   "id": "247729ee",
   "metadata": {},
   "outputs": [
    {
     "data": {
      "text/plain": [
       "(25781, 2)"
      ]
     },
     "execution_count": 20,
     "metadata": {},
     "output_type": "execute_result"
    }
   ],
   "source": [
    "db2.shape"
   ]
  },
  {
   "cell_type": "code",
   "execution_count": 21,
   "id": "ed5b1160",
   "metadata": {},
   "outputs": [
    {
     "data": {
      "text/plain": [
       "13821"
      ]
     },
     "execution_count": 21,
     "metadata": {},
     "output_type": "execute_result"
    }
   ],
   "source": [
    "len(db2.smile.unique())"
   ]
  },
  {
   "cell_type": "code",
   "execution_count": 22,
   "id": "f4ea711d",
   "metadata": {},
   "outputs": [
    {
     "data": {
      "text/plain": [
       "sweet       23504\n",
       "bitter       1911\n",
       "odorless      366\n",
       "Name: flavor, dtype: int64"
      ]
     },
     "execution_count": 22,
     "metadata": {},
     "output_type": "execute_result"
    }
   ],
   "source": [
    "db2.flavor.value_counts()"
   ]
  },
  {
   "attachments": {},
   "cell_type": "markdown",
   "id": "aec69cc5",
   "metadata": {},
   "source": [
    "Drop duplicated molecules"
   ]
  },
  {
   "cell_type": "code",
   "execution_count": 23,
   "id": "09f61b6a",
   "metadata": {},
   "outputs": [
    {
     "data": {
      "text/plain": [
       "(13821, 2)"
      ]
     },
     "execution_count": 23,
     "metadata": {},
     "output_type": "execute_result"
    }
   ],
   "source": [
    "db2_unique = db2.drop_duplicates(subset=['smile'])\n",
    "db2_unique.shape"
   ]
  },
  {
   "cell_type": "code",
   "execution_count": 24,
   "id": "c25a336f",
   "metadata": {},
   "outputs": [
    {
     "data": {
      "text/plain": [
       "sweet       11710\n",
       "bitter       1775\n",
       "odorless      336\n",
       "Name: flavor, dtype: int64"
      ]
     },
     "execution_count": 24,
     "metadata": {},
     "output_type": "execute_result"
    }
   ],
   "source": [
    "db2_unique.flavor.value_counts()"
   ]
  },
  {
   "attachments": {},
   "cell_type": "markdown",
   "id": "2c1e23cf",
   "metadata": {},
   "source": [
    "Save final dataset"
   ]
  },
  {
   "cell_type": "code",
   "execution_count": 25,
   "id": "b26aa580",
   "metadata": {},
   "outputs": [],
   "source": [
    "db2_unique.to_csv('dataset.csv', index=False)"
   ]
  }
 ],
 "metadata": {
  "kernelspec": {
   "display_name": "mlabs",
   "language": "python",
   "name": "python3"
  },
  "language_info": {
   "codemirror_mode": {
    "name": "ipython",
    "version": 3
   },
   "file_extension": ".py",
   "mimetype": "text/x-python",
   "name": "python",
   "nbconvert_exporter": "python",
   "pygments_lexer": "ipython3",
   "version": "3.10.6 (main, Oct 24 2022, 16:07:47) [GCC 11.2.0]"
  },
  "vscode": {
   "interpreter": {
    "hash": "7897a737e3536d2bc481b1b696211edf6568d6e62f91db012478264c83da5059"
   }
  }
 },
 "nbformat": 4,
 "nbformat_minor": 5
}
